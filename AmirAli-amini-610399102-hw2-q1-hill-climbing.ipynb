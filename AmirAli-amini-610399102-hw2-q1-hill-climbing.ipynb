{
 "cells": [
  {
   "attachments": {},
   "cell_type": "markdown",
   "metadata": {},
   "source": [
    "# cutting stock problem with HC\n",
    "## AmirAli Amini\n",
    "### 610399102"
   ]
  },
  {
   "cell_type": "markdown",
   "metadata": {},
   "source": [
    "# با یکم تغییر الگوریتم \n",
    "# sa\n",
    "# به این الگوریتم میرسیم (کامل گریدیش میکنم و تعداد همسایه های هر ایتریشن رو بیشتر میکنم)"
   ]
  },
  {
   "attachments": {},
   "cell_type": "markdown",
   "metadata": {},
   "source": [
    "# algorithm Hill climbing\n",
    "تپه‌نوردی یک تکنیک بهینه‌سازی متعلق به خانواده الگوریتم‌های جستجوی محلی است؛ یک تکنیک تکرارشونده که با یک راه‌حل دلخواه شروع به کار کرده و سپس تلاش می‌کند تا با تغییر بر روی یک عنصر از راه حل، به پاسخ بهتری دست پیدا کند. اگر این تغییر منجر به ایجاد یک راه حل بهتر شود، تغییر دیگری بر روی این راه حل جدید انجام خواهد گرفت. این روال تا زمانی که بهبود بیشتری در راه حل میسر نباشد ادامه می‌یابد."
   ]
  },
  {
   "attachments": {},
   "cell_type": "markdown",
   "metadata": {},
   "source": [
    "# پیاده سازی"
   ]
  },
  {
   "attachments": {},
   "cell_type": "markdown",
   "metadata": {},
   "source": [
    "\n",
    "\n",
    "استاک لنس رو سیو کردم که بتونم تو تابع فیتنسم ازش استفاده کنم\n",
    "\n",
    "کلیت کارمم اینجوریه که میام یه رشته تولید میکنم بعد میبینم هرچندتاش پشت سر هم یه رول رو تشکیل میدن و اینجوری فیتنسم رو حساب میکنم\n",
    "بقیش هم دقیفا مثل همون تی سی پی هست که پایین توصیحاتش رو میزارم"
   ]
  },
  {
   "attachments": {},
   "cell_type": "markdown",
   "metadata": {},
   "source": [
    "# توضیحات :‌\n",
    "کلیت الگوریتم میام یه مسیر درست میکنم و فیتنسش رو محاسبه میکنم\n",
    "هر دفه میام یه همسایه درست میکنم که همسایمون هم فقط نسبت به مسیر الان دوتا نودش باهم جا به میشن و حالا نسبت به اینکه فیتنس همسایه چجوریه میایم با یه احتمالی که میتونه یک هم باشه با مسیر فعلی جا به جاش میکنم و فیتنسش رو سیو میکنم تو کلاس\n",
    "\n",
    "تو این الگوریتم اومدم الفارو طبق همون چیزی که جزوه بود ۹۹ صدم گذاشتم\n",
    "و ماکسیمم ایتریشن هم چون خیلی خوب و سریع به جواب میرسه یه چیز زیاد گذاشتم که یه جواب بهتر بهم بده \n",
    "\n",
    "اکسپکتد انسرم همون چیزیه که واسه gr209 لازم داریم و مقدار دیفالتشه ولی ممکنه تغییر کنه دیگه\n",
    "\n",
    "یه دما اولیه داریم اینو یکم طول کشید بدست بیارم چی باشه \n",
    "\n",
    "بعد یکم تست کردن یه عدد گذاشتم که اول پویشمون رو خوب کنه بعد که کم کم تاثیرش از بین میره بخاطر تعداد ایتریشن های بالامون دیگه تو انتفاع تمرکز بیشتر شه و انتفاعمون رو خوب کنیم \n",
    "\n",
    "\n"
   ]
  },
  {
   "attachments": {},
   "cell_type": "markdown",
   "metadata": {},
   "source": [
    "### ابتدا کتابخانه هایی که لازم داریم را ایمپورت میکنیم"
   ]
  },
  {
   "cell_type": "code",
   "execution_count": 90,
   "metadata": {},
   "outputs": [],
   "source": [
    "import random\n",
    "import numpy as np\n",
    "import math\n",
    "import matplotlib.pyplot as plt"
   ]
  },
  {
   "attachments": {},
   "cell_type": "markdown",
   "metadata": {},
   "source": [
    "\n",
    "# introduction\n",
    "\n",
    "در این کد یک کلاس SA (Simulated Annealing) را برای حل مسئله cutting stock با استفاده از الگوریتم شبیه سازی آنیل تعریف می کنیم. cutting stock یک مسئله بهینه‌سازی است که در آن کمترین تعداد رول ها برای برش در یک سری قطعه به طول مشخص است\n",
    "در اینجا خلاصه ای از الگوریتم و توضیح دقیق کد آمده است:\n",
    "کلاس HC را با پارامترهای زیر اینیشیالایز میکنیم\n",
    "\n",
    "# TL:\n",
    " محدودیت زمانی، حداکثر تعداد تکرار، همون ایتریشن خودمون.\n",
    "\n",
    "# expectAns:\n",
    " کمترین تعداد رول مورد نیاز تقریبی\n",
    "\n",
    "# ignoreTL:\n",
    "  برای نادیده گرفتن محدودیت زمانی فلگ گذاری میکنیم.\n",
    "\n",
    "# inputFile:\n",
    "فایل ورودی حاوی مختصات شهرها را با استفاده از این تابع  بارگیری میکنیم.\n",
    "\n",
    "# Intializer:\n",
    "با استفاده از  این تابع  مسئله را راه اندازی میکنیم:\n",
    "راه حل تصادفی اولیه (جایگشت تصادفی شهرها) را ایجاد میکنیم.\n",
    "\n",
    "# fitnessFunction : \n",
    "فیتنس یک راه حل را با استفاده از این تابع  که فاصله کل مسیر را محاسبه می کند، ارزیابی میکنیم.\n",
    "\n",
    "# SARunner:\n",
    "الگوریتم آنیل شبیه سازی شده را با استفاده از این تابع  اجرا میکنیم:\n",
    "با تعویض دو شهر تصادفی در راه حل فعلی، یک راه حل همسایه ایجاد میکنیم.\n",
    "تغییر فیتنس (دلتا) بین همسایه و راه حل فعلی را محاسبه میکنیم.\n",
    "اگر دلتا منفی است (یعنی راه حل همسایه بهتر است)، راه حل همسایه را به عنوان راه حل فعلی جدید میپذیریم.\n",
    "اگر دلتا مثبت است (یعنی محلول همسایه بدتر است)، راه حل همسایه را با احتمال بر اساس دمای فعلی و مقدار دلتا میپذیریم.\n",
    "این فرآیند را تا رسیدن به فیتنس مورد انتظار یا رسیدن به حداکثر تعداد تکرار تکرار میکنیم.\n",
    "\n",
    "# printBest:\n",
    "بهترین راه حل پیدا شده را با استفاده از این تابع  چاپ میکنیم.\n",
    "\n",
    "# printPlot:\n",
    "با استفاده از این تابع که حداقل فاصله را در هر تکرار ترسیم می کند، پیشرفت الگوریتم را تجسم میکنیم."
   ]
  },
  {
   "attachments": {},
   "cell_type": "markdown",
   "metadata": {},
   "source": [
    "# خلاصه :\n",
    "\n",
    "به طور خلاصه، این کد الگوریتم سرد شدن شبیه‌سازی شده را برای حل مسئله cutting stock پیاده‌سازی می‌کند، جایی که به طور مکرر فضای راه‌حل را با تولید راه‌حل‌های همسایه و پذیرش آن‌ها بر اساس یک احتمال وابسته به دما بررسی می‌کند. دما با گذشت زمان کاهش می‌یابد که باعث می‌شود الگوریتم کمتر راه‌حل‌های بدتری را بپذیرد و به آن اجازه می‌دهد تا روی یافتن راه‌حل‌های بهتر تمرکز کند."
   ]
  },
  {
   "cell_type": "code",
   "execution_count": 91,
   "metadata": {},
   "outputs": [],
   "source": [
    "class HC:\n",
    "    def __init__(self = 500,TL = 300000, expectedAns = 2800 , ignoreTL = False):\n",
    "        self.TL = TL\n",
    "        self.expectedAns = expectedAns\n",
    "        self.ignoreTL = ignoreTL\n",
    "        self.x = []\n",
    "        self.y = []\n",
    "\n",
    "\n",
    "    def inputFile(self , path ):\n",
    "        lines = open(path, 'r').readlines()\n",
    "        stockLength = int(lines[0].split()[-1])\n",
    "        data = list(map(int,lines[3].split(', ')))\n",
    "        self.intializer(data ,stockLength)\n",
    "        \n",
    "\n",
    "\n",
    "    def intializer(self , requests , stockLength=100):\n",
    "        self.pieceNumber = len(requests)\n",
    "        self.requests = requests\n",
    "        self.stockLength = stockLength\n",
    "        self.solution = list(random.sample(range(self.pieceNumber), self.pieceNumber))\n",
    "        self.fitness = self.fitnessFunction(self.solution)\n",
    "\n",
    "\n",
    "    def fitnessFunction(self, path):\n",
    "        fitness_value = 0\n",
    "        temp = 0\n",
    "        for item in path:\n",
    "            temp += self.requests[item]\n",
    "            if (temp>self.stockLength): \n",
    "                fitness_value+=1\n",
    "                temp =self.requests[item]\n",
    "        if (temp):\n",
    "            fitness_value+=1\n",
    "\n",
    "        return fitness_value  \n",
    "\n",
    "\n",
    "    def CreateNeighbor(self,path):\n",
    "        paths = []\n",
    "        for i in range (len(path)):\n",
    "            swapped_path = path.copy()\n",
    "            temp1 = random.sample(range(self.pieceNumber),1)[0]\n",
    "            swapped_path[temp1], swapped_path[i] = swapped_path[i], swapped_path[temp1]\n",
    "            paths.append(swapped_path)\n",
    "        paths.sort(key=lambda x:self.fitnessFunction(x))\n",
    "        return paths[0]\n",
    "\n",
    "    def nextIteration(self):\n",
    "        neighbor = self.CreateNeighbor(self.solution)\n",
    "        delta = self.fitnessFunction(neighbor) - self.fitnessFunction(self.solution)\n",
    "        if delta <= 0:\n",
    "            self.solution = neighbor\n",
    "            self.fitness = self.fitnessFunction(self.solution)\n",
    "\n",
    "    def SARunner(self):\n",
    "        i = 0\n",
    "        while (self.fitness > self.expectedAns):\n",
    "            self.x.append(i)\n",
    "            self.y.append(self.fitness)\n",
    "            i +=1\n",
    "            if (not self.ignoreTL and i > self.TL) or (self.expectedAns >= self.fitness):\n",
    "                break\n",
    "\n",
    "            self.nextIteration()\n",
    "            if(len(self.x)<3 or self.y[-2] != self.fitness):print(f'in itration  {i} the best answer is : {self.fitness}')\n",
    "\n",
    "\n",
    "    def printBest(self):\n",
    "        print(f'the best answer after {self.x[-1]} iterations is  : {self.fitness}')\n",
    "        print('the best answer is : ')\n",
    "        stockToPrint = []\n",
    "        temp = 0\n",
    "        fitness_value = 0\n",
    "        for item in self.solution:\n",
    "            temp += self.requests[item]\n",
    "            stockToPrint.append(self.requests[item])\n",
    "            if (temp>self.stockLength): \n",
    "                fitness_value+=1\n",
    "                print(fitness_value , \": \", stockToPrint[:-1])\n",
    "                stockToPrint=[self.requests[item]]\n",
    "                temp =self.requests[item]\n",
    "\n",
    "        if (temp):\n",
    "            fitness_value+=1\n",
    "            print(fitness_value , \": \", stockToPrint)\n",
    "\n",
    "\n",
    "\n",
    "\n",
    "    def printPlot(self):\n",
    "        plt.plot(self.x, self.y)\n",
    "        plt.xlabel(\"ith generation\")\n",
    "        plt.ylabel(\"min distance\")\n",
    "        plt.show()\n",
    "\n",
    "\n"
   ]
  },
  {
   "attachments": {},
   "cell_type": "markdown",
   "metadata": {},
   "source": [
    "## ----------------------------------input1----------------------------------------"
   ]
  },
  {
   "attachments": {},
   "cell_type": "markdown",
   "metadata": {},
   "source": [
    "## input and run\n",
    "تو اینجا اینپوت رو میخونم و کد رو ران میکنم\n"
   ]
  },
  {
   "cell_type": "code",
   "execution_count": 92,
   "metadata": {},
   "outputs": [
    {
     "name": "stdout",
     "output_type": "stream",
     "text": [
      "in itration  1 the best answer is : 61\n",
      "in itration  2 the best answer is : 60\n",
      "in itration  3 the best answer is : 59\n",
      "in itration  4 the best answer is : 58\n",
      "in itration  5 the best answer is : 58\n",
      "in itration  7 the best answer is : 57\n",
      "in itration  8 the best answer is : 57\n",
      "in itration  9 the best answer is : 56\n",
      "in itration  10 the best answer is : 55\n",
      "in itration  11 the best answer is : 55\n",
      "in itration  21 the best answer is : 54\n",
      "in itration  22 the best answer is : 54\n",
      "in itration  52 the best answer is : 53\n",
      "in itration  53 the best answer is : 53\n",
      "in itration  312 the best answer is : 52\n",
      "in itration  313 the best answer is : 52\n",
      "in itration  1826 the best answer is : 51\n"
     ]
    }
   ],
   "source": [
    "input1 = SA(expectedAns=51)\n",
    "input1.inputFile('input1.stock' )\n",
    "input1.SARunner()"
   ]
  },
  {
   "attachments": {},
   "cell_type": "markdown",
   "metadata": {},
   "source": [
    "# the best answer"
   ]
  },
  {
   "cell_type": "code",
   "execution_count": 93,
   "metadata": {},
   "outputs": [
    {
     "name": "stdout",
     "output_type": "stream",
     "text": [
      "the best answer after 1825 iterations is  : 51\n",
      "the best answer is : \n",
      "1 :  [125, 555, 88, 117, 86]\n",
      "2 :  [78, 544, 186]\n",
      "3 :  [581, 346]\n",
      "4 :  [627, 351]\n",
      "5 :  [501, 424]\n",
      "6 :  [753, 230]\n",
      "7 :  [301, 106, 315, 268]\n",
      "8 :  [70, 788]\n",
      "9 :  [988]\n",
      "10 :  [45, 371, 515]\n",
      "11 :  [507, 414]\n",
      "12 :  [125, 149, 618]\n",
      "13 :  [312, 23, 88, 495]\n",
      "14 :  [967]\n",
      "15 :  [246, 648, 79]\n",
      "16 :  [292, 33, 549]\n",
      "17 :  [409, 123, 149, 286]\n",
      "18 :  [716, 92, 148]\n",
      "19 :  [337, 356, 284]\n",
      "20 :  [441, 532]\n",
      "21 :  [92, 18, 405, 53, 170, 249]\n",
      "22 :  [80, 106, 557, 211]\n",
      "23 :  [333, 662]\n",
      "24 :  [868, 60]\n",
      "25 :  [933]\n",
      "26 :  [457, 506]\n",
      "27 :  [107, 187, 557, 144]\n",
      "28 :  [914]\n",
      "29 :  [660, 312]\n",
      "30 :  [753, 115]\n",
      "31 :  [295, 437, 126, 109]\n",
      "32 :  [517, 118, 248]\n",
      "33 :  [149, 264, 71, 69, 412]\n",
      "34 :  [251, 368, 354]\n",
      "35 :  [788, 119]\n",
      "36 :  [686, 241]\n",
      "37 :  [99, 181, 653]\n",
      "38 :  [672, 280, 43]\n",
      "39 :  [609, 286]\n",
      "40 :  [987]\n",
      "41 :  [232, 518, 224]\n",
      "42 :  [463, 106, 266]\n",
      "43 :  [557, 84, 266, 75]\n",
      "44 :  [306, 525, 106]\n",
      "45 :  [135, 460, 402]\n",
      "46 :  [116, 678, 171]\n",
      "47 :  [370, 283, 46, 145, 61]\n",
      "48 :  [278, 689]\n",
      "49 :  [632, 365]\n",
      "50 :  [180, 218, 592]\n",
      "51 :  [805]\n"
     ]
    }
   ],
   "source": [
    "input1.printBest()"
   ]
  },
  {
   "attachments": {},
   "cell_type": "markdown",
   "metadata": {},
   "source": [
    "## analysis :\n",
    "\n",
    "همونجور که رو نمودار مشحصه انتفاع خیلی زیاده و پویش نداریم\n"
   ]
  },
  {
   "cell_type": "code",
   "execution_count": 94,
   "metadata": {},
   "outputs": [
    {
     "data": {
      "image/png": "[encoded data removed]",
      "text/plain": [
       "<Figure size 640x480 with 1 Axes>"
      ]
     },
     "metadata": {},
     "output_type": "display_data"
    }
   ],
   "source": [
    "input1.printPlot()"
   ]
  },
  {
   "attachments": {},
   "cell_type": "markdown",
   "metadata": {},
   "source": [
    "## ----------------------------------input2----------------------------------------"
   ]
  },
  {
   "attachments": {},
   "cell_type": "markdown",
   "metadata": {},
   "source": [
    "## input and run\n",
    "تو اینجا اینپوت رو میخونم و کد رو ران میکنم\n"
   ]
  },
  {
   "cell_type": "code",
   "execution_count": 96,
   "metadata": {},
   "outputs": [
    {
     "name": "stdout",
     "output_type": "stream",
     "text": [
      "in itration  1 the best answer is : 89\n",
      "in itration  2 the best answer is : 88\n",
      "in itration  3 the best answer is : 87\n",
      "in itration  4 the best answer is : 86\n",
      "in itration  5 the best answer is : 86\n",
      "in itration  15 the best answer is : 85\n",
      "in itration  16 the best answer is : 85\n",
      "in itration  17 the best answer is : 84\n",
      "in itration  18 the best answer is : 84\n",
      "in itration  36 the best answer is : 83\n",
      "in itration  37 the best answer is : 83\n",
      "in itration  170 the best answer is : 82\n",
      "in itration  171 the best answer is : 82\n",
      "in itration  246 the best answer is : 81\n",
      "in itration  247 the best answer is : 81\n",
      "in itration  364 the best answer is : 80\n",
      "in itration  365 the best answer is : 80\n",
      "in itration  446 the best answer is : 79\n",
      "in itration  447 the best answer is : 79\n",
      "in itration  4619 the best answer is : 78\n",
      "in itration  4620 the best answer is : 78\n",
      "in itration  26969 the best answer is : 77\n",
      "in itration  26970 the best answer is : 77\n",
      "in itration  37275 the best answer is : 76\n",
      "in itration  37276 the best answer is : 76\n"
     ]
    }
   ],
   "source": [
    "input2 = SA(expectedAns=73 ,TL=100000)\n",
    "input2.inputFile('input2.stock' )\n",
    "input2.SARunner()"
   ]
  },
  {
   "attachments": {},
   "cell_type": "markdown",
   "metadata": {},
   "source": [
    "# the best answer"
   ]
  },
  {
   "cell_type": "code",
   "execution_count": 97,
   "metadata": {},
   "outputs": [
    {
     "name": "stdout",
     "output_type": "stream",
     "text": [
      "the best answer after 100000 iterations is  : 76\n",
      "the best answer is : \n",
      "1 :  [1820, 2150, 1560]\n",
      "2 :  [2200, 1520, 1880]\n",
      "3 :  [2150, 2200]\n",
      "4 :  [1930, 1520, 2150]\n",
      "5 :  [1930, 2100, 1560]\n",
      "6 :  [2200, 2000, 1380]\n",
      "7 :  [2150, 1520, 1820]\n",
      "8 :  [1820, 1820, 1560]\n",
      "9 :  [2140, 1930, 1520]\n",
      "10 :  [2140, 1380, 2000]\n",
      "11 :  [1880, 1710, 1930]\n",
      "12 :  [2000, 2100, 1380]\n",
      "13 :  [1930, 1520, 1930]\n",
      "14 :  [2200, 1880, 1520]\n",
      "15 :  [1380, 2100, 2050]\n",
      "16 :  [1880, 2100, 1520]\n",
      "17 :  [2200, 1380, 1820]\n",
      "18 :  [2050, 2150, 1380]\n",
      "19 :  [2140, 2150]\n",
      "20 :  [2150, 2050, 1380]\n",
      "21 :  [1560, 1710, 2200]\n",
      "22 :  [1380, 2150, 1930]\n",
      "23 :  [2150, 2050, 1380]\n",
      "24 :  [2200, 2200]\n",
      "25 :  [2100, 1560, 1930]\n",
      "26 :  [1880, 1520, 1710]\n",
      "27 :  [2140, 1520, 1820]\n",
      "28 :  [2050, 1930, 1520]\n",
      "29 :  [2140, 1520, 1880]\n",
      "30 :  [2150, 2050, 1380]\n",
      "31 :  [2200, 2140]\n",
      "32 :  [1930, 1520, 1820]\n",
      "33 :  [2050, 1710, 1820]\n",
      "34 :  [1560, 2100, 1930]\n",
      "35 :  [2000, 1380, 2150]\n",
      "36 :  [2200, 2140]\n",
      "37 :  [1560, 2100, 1880]\n",
      "38 :  [2200, 1880, 1520]\n",
      "39 :  [1710, 2000, 1880]\n",
      "40 :  [2140, 1880, 1520]\n",
      "41 :  [1560, 1880, 2000]\n",
      "42 :  [2150, 1380, 1930]\n",
      "43 :  [1820, 1710, 2000]\n",
      "44 :  [2150, 1520, 1880]\n",
      "45 :  [2140, 1520, 1710]\n",
      "46 :  [1560, 2200, 1520]\n",
      "47 :  [1880, 2050, 1520]\n",
      "48 :  [2150, 2150]\n",
      "49 :  [2100, 2100, 1380]\n",
      "50 :  [1380, 1820, 2200]\n",
      "51 :  [2050, 2100, 1380]\n",
      "52 :  [2050, 1380, 1560]\n",
      "53 :  [2000, 1520, 2000]\n",
      "54 :  [1710, 1380, 2150]\n",
      "55 :  [1930, 1710, 1930]\n",
      "56 :  [1880, 1820, 1880]\n",
      "57 :  [2140, 2200]\n",
      "58 :  [1710, 1820, 1930]\n",
      "59 :  [1820, 2150, 1520]\n",
      "60 :  [1710, 2000, 1880]\n",
      "61 :  [2100, 2140]\n",
      "62 :  [1930, 2140, 1520]\n",
      "63 :  [2050, 1380, 2140]\n",
      "64 :  [1560, 2200, 1820]\n",
      "65 :  [1930, 2200, 1380]\n",
      "66 :  [2140, 2200]\n",
      "67 :  [1820, 2100, 1560]\n",
      "68 :  [1380, 2140, 1930]\n",
      "69 :  [2200, 1380, 1930]\n",
      "70 :  [1710, 1520, 2200]\n",
      "71 :  [1380, 2140, 2050]\n",
      "72 :  [1820, 2200, 1520]\n",
      "73 :  [1820, 1880, 1820]\n",
      "74 :  [1930, 1520, 2100]\n",
      "75 :  [1520, 2150, 1880]\n",
      "76 :  [2100, 1710, 1710]\n"
     ]
    }
   ],
   "source": [
    "input2.printBest()"
   ]
  },
  {
   "attachments": {},
   "cell_type": "markdown",
   "metadata": {},
   "source": [
    "## analysis :\n",
    "\n",
    "\n",
    "همونجور که رو نمودار مشحصه اخرش انتفاع خیلی زیاده و پویش نداریم\n"
   ]
  },
  {
   "cell_type": "code",
   "execution_count": 98,
   "metadata": {},
   "outputs": [
    {
     "data": {
      "image/png": "[encoded data removed]",
      "text/plain": [
       "<Figure size 640x480 with 1 Axes>"
      ]
     },
     "metadata": {},
     "output_type": "display_data"
    }
   ],
   "source": [
    "input2.printPlot()"
   ]
  },
  {
   "attachments": {},
   "cell_type": "markdown",
   "metadata": {},
   "source": []
  },
  {
   "attachments": {},
   "cell_type": "markdown",
   "metadata": {},
   "source": [
    "## ----------------------------------input3----------------------------------------"
   ]
  },
  {
   "attachments": {},
   "cell_type": "markdown",
   "metadata": {},
   "source": [
    "## input and run\n",
    "تو اینجا اینپوت رو میخونم و کد رو ران میکنم\n"
   ]
  },
  {
   "cell_type": "code",
   "execution_count": 101,
   "metadata": {},
   "outputs": [
    {
     "name": "stdout",
     "output_type": "stream",
     "text": [
      "in itration  1 the best answer is : 117\n",
      "in itration  2 the best answer is : 116\n",
      "in itration  3 the best answer is : 115\n"
     ]
    }
   ],
   "source": [
    "input3 = SA(expectedAns=115)\n",
    "input3.inputFile('input3.stock' )\n",
    "input3.SARunner()"
   ]
  },
  {
   "attachments": {},
   "cell_type": "markdown",
   "metadata": {},
   "source": [
    "# the best answer"
   ]
  },
  {
   "cell_type": "code",
   "execution_count": 102,
   "metadata": {},
   "outputs": [
    {
     "name": "stdout",
     "output_type": "stream",
     "text": [
      "the best answer after 2 iterations is  : 115\n",
      "the best answer is : \n",
      "1 :  [430, 12]\n",
      "2 :  [275, 21, 8, 5, 152, 4, 1]\n",
      "3 :  [405, 5]\n",
      "4 :  [154, 3, 8, 35, 5, 1, 76, 132, 3, 8, 1, 3, 18]\n",
      "5 :  [189, 180, 9, 96]\n",
      "6 :  [209, 11, 91, 2, 2, 183, 1]\n",
      "7 :  [20, 228, 18, 18, 14]\n",
      "8 :  [225, 6, 2, 6]\n",
      "9 :  [359, 5, 8, 2, 9, 4, 17]\n",
      "10 :  [158, 7, 3, 1, 6, 2, 10, 4, 264]\n",
      "11 :  [343, 4, 10]\n",
      "12 :  [199, 10, 198, 9, 6]\n",
      "13 :  [186, 1, 14, 112, 6, 133, 1]\n",
      "14 :  [153, 1, 92, 1, 224, 1, 9, 3, 2, 12]\n",
      "15 :  [49, 2, 7, 4, 16, 9, 150, 135, 1, 28, 14, 2, 21, 1, 8, 11, 4, 6, 4, 2, 1]\n",
      "16 :  [134, 18, 1, 92, 134, 27, 19, 5, 5, 6, 13, 11, 8, 5, 2, 13, 2, 3]\n",
      "17 :  [9, 74, 1, 24, 21, 151]\n",
      "18 :  [315, 4, 14, 6, 2, 75, 6, 67]\n",
      "19 :  [21, 3, 7, 16, 4, 2, 7, 98, 14, 5, 2, 6, 6, 8, 9, 7, 2, 243, 2, 10]\n",
      "20 :  [319, 147]\n",
      "21 :  [108, 314, 5]\n",
      "22 :  [118, 109, 66, 19, 18, 12, 25, 6, 9, 3, 7, 3, 5]\n",
      "23 :  [174, 3, 274]\n",
      "24 :  [124, 4, 3, 9, 2, 13, 314, 4, 14, 7]\n",
      "25 :  [78, 205, 38, 3]\n",
      "26 :  [282, 169]\n",
      "27 :  [99, 5, 6, 167, 2]\n",
      "28 :  [339, 10, 10, 9, 5, 3, 5, 18, 10, 1, 4, 11]\n",
      "29 :  [139, 7, 4, 13, 7, 2, 152, 9, 5, 2, 11]\n",
      "30 :  [277]\n",
      "31 :  [229, 4]\n",
      "32 :  [364, 3, 7, 2, 11, 4, 10, 3, 5, 9, 61]\n",
      "33 :  [144, 5, 4, 1, 1, 3, 7, 1, 6, 10, 3, 9, 7, 9, 7, 138, 6, 11, 5, 2, 1, 16]\n",
      "34 :  [224, 4, 2, 34, 32, 2, 1, 1, 6, 3, 19, 7, 1, 23, 1, 9, 7, 3, 3, 1, 1]\n",
      "35 :  [245, 2, 4, 4, 3, 6, 4, 5, 3, 213]\n",
      "36 :  [13, 49, 169, 4, 8, 9, 1, 6, 8, 1, 2, 7, 131, 92]\n",
      "37 :  [14, 126, 1, 7, 188, 8, 4, 11, 1, 18, 8, 5, 1]\n",
      "38 :  [260, 5, 1, 3, 1, 9, 2, 3, 134, 3, 7, 4]\n",
      "39 :  [106, 120, 201, 11, 41, 17]\n",
      "40 :  [36, 4, 3, 3, 3, 11, 2, 275, 5, 17, 6, 2, 17, 6, 1, 9, 1, 21, 6]\n",
      "41 :  [89, 7, 3, 255]\n",
      "42 :  [157, 5, 290, 1, 3, 2, 13]\n",
      "43 :  [187, 1, 6, 68, 5, 21, 17, 8, 87]\n",
      "44 :  [152, 2, 6, 2, 1, 3, 8, 5, 59, 7, 5, 1, 1, 116, 14, 38, 23]\n",
      "45 :  [234, 6, 12, 14, 7, 159, 4, 6, 4, 11, 1]\n",
      "46 :  [160, 93, 133, 6]\n",
      "47 :  [239, 1, 85, 166, 4, 3]\n",
      "48 :  [15, 12, 6, 12, 9, 369, 9, 1]\n",
      "49 :  [234, 124, 16, 3, 8, 8, 2, 3, 1, 12, 3, 1, 4, 1, 3]\n",
      "50 :  [167, 9, 8, 4, 8, 2, 250]\n",
      "51 :  [433, 3]\n",
      "52 :  [124, 3, 86, 3, 5, 178, 13, 23, 17, 6, 1, 14, 11, 5]\n",
      "53 :  [14, 9, 11, 16, 26, 4, 174, 1, 4, 4, 15, 3, 6, 138, 3, 5, 12, 7, 3]\n",
      "54 :  [335, 128, 3]\n",
      "55 :  [92, 13, 311, 1, 7, 7, 5, 12]\n",
      "56 :  [184, 13, 2, 24, 6, 3, 6, 5, 37, 10, 2, 2, 6]\n",
      "57 :  [227, 7, 7, 5, 115, 2, 76, 12]\n",
      "58 :  [458, 15]\n",
      "59 :  [165, 2, 1, 125]\n",
      "60 :  [271, 3, 3]\n",
      "61 :  [243, 9, 5, 111, 1, 1]\n",
      "62 :  [134, 10, 2, 2, 27, 159, 7, 5, 54, 9]\n",
      "63 :  [147, 7, 153, 4, 21, 2, 144, 9]\n",
      "64 :  [299]\n",
      "65 :  [361, 7, 14, 98, 6]\n",
      "66 :  [251, 16, 72, 7, 1, 5, 3, 88]\n",
      "67 :  [87, 2, 39, 110, 6]\n",
      "68 :  [360, 2, 50, 2, 40]\n",
      "69 :  [102, 1, 2, 6, 2, 15, 2, 1, 111, 2, 10, 1, 7, 1, 8, 1, 9]\n",
      "70 :  [350, 15, 11, 8]\n",
      "71 :  [314, 1, 172, 2, 9]\n",
      "72 :  [7, 8, 2, 9, 11, 399]\n",
      "73 :  [288, 17, 1, 24, 21, 5, 6, 2, 3, 86]\n",
      "74 :  [170, 5, 9]\n",
      "75 :  [331, 52, 68, 45]\n",
      "76 :  [6, 10, 6, 130, 4, 6, 14, 116, 8]\n",
      "77 :  [209, 6, 86, 2, 1]\n",
      "78 :  [419, 2]\n",
      "79 :  [279, 11, 13, 79, 102, 3]\n",
      "80 :  [245, 1, 2]\n",
      "81 :  [255, 5, 18, 5, 170, 3]\n",
      "82 :  [147, 2, 2, 16, 16]\n",
      "83 :  [386, 1, 14, 8, 34, 7]\n",
      "84 :  [237, 15, 11, 7]\n",
      "85 :  [421, 7, 41, 7, 2]\n",
      "86 :  [196, 138, 17, 9]\n",
      "87 :  [197, 29]\n",
      "88 :  [479, 4]\n",
      "89 :  [214, 3, 1, 263]\n",
      "90 :  [178, 24, 167, 9, 3]\n",
      "91 :  [156, 27, 2, 24, 1, 13, 243, 26]\n",
      "92 :  [298, 4, 5, 90, 2, 10, 7, 12, 1, 7, 16, 2]\n",
      "93 :  [108, 170, 3, 1, 8, 22, 4, 9, 8, 12, 8, 5, 25, 3, 1, 9]\n",
      "94 :  [161, 314]\n",
      "95 :  [191, 15, 9, 5, 6, 4, 7, 15, 10, 1, 4, 1, 5, 8]\n",
      "96 :  [245, 1, 1, 7, 14, 3]\n",
      "97 :  [263, 3, 5, 3, 4, 3, 1, 66, 2, 23, 12, 11, 2]\n",
      "98 :  [313, 7, 19, 1, 11, 1]\n",
      "99 :  [204, 17, 12, 3, 11]\n",
      "100 :  [318, 2, 2, 3, 1]\n",
      "101 :  [240, 5, 2]\n",
      "102 :  [403, 4, 8, 2, 12, 8, 1, 1]\n",
      "103 :  [87, 152, 6, 6, 225, 2]\n",
      "104 :  [204, 7, 9, 152, 8]\n",
      "105 :  [470, 7, 9, 9, 1]\n",
      "106 :  [264, 8, 2, 1, 4, 5]\n",
      "107 :  [280, 1, 4, 4, 16, 6, 162, 4, 2, 3]\n",
      "108 :  [43, 13, 9, 34, 3, 5, 265, 5, 10, 12, 49, 10, 2, 5]\n",
      "109 :  [271]\n",
      "110 :  [244, 4, 97, 2, 9, 43, 10]\n",
      "111 :  [313]\n",
      "112 :  [411, 1]\n",
      "113 :  [163, 14, 8, 4, 7, 8, 5, 6, 2, 7, 18]\n",
      "114 :  [321]\n",
      "115 :  [281, 1, 4, 13, 26, 19, 8, 8, 1, 6]\n"
     ]
    }
   ],
   "source": [
    "input3.printBest()"
   ]
  },
  {
   "attachments": {},
   "cell_type": "markdown",
   "metadata": {},
   "source": [
    "## analysis :\n",
    "\n",
    "همونجور که رو نمودار مشحصه  انتفاع خیلی زیاده و پویش نداریم"
   ]
  },
  {
   "cell_type": "code",
   "execution_count": 103,
   "metadata": {},
   "outputs": [
    {
     "data": {
      "image/png": "[encoded data removed]",
      "text/plain": [
       "<Figure size 640x480 with 1 Axes>"
      ]
     },
     "metadata": {},
     "output_type": "display_data"
    }
   ],
   "source": [
    "input3.printPlot()"
   ]
  },
  {
   "attachments": {},
   "cell_type": "markdown",
   "metadata": {},
   "source": [
    "## ----------------------------------input4----------------------------------------"
   ]
  },
  {
   "attachments": {},
   "cell_type": "markdown",
   "metadata": {},
   "source": [
    "## input and run\n",
    "تو اینجا اینپوت رو میخونم و کد رو ران میکنم\n"
   ]
  },
  {
   "cell_type": "code",
   "execution_count": 105,
   "metadata": {},
   "outputs": [
    {
     "name": "stdout",
     "output_type": "stream",
     "text": [
      "in itration  1 the best answer is : 259\n",
      "in itration  2 the best answer is : 257\n",
      "in itration  3 the best answer is : 255\n",
      "in itration  4 the best answer is : 254\n",
      "in itration  5 the best answer is : 253\n",
      "in itration  6 the best answer is : 252\n",
      "in itration  7 the best answer is : 251\n",
      "in itration  8 the best answer is : 250\n",
      "in itration  9 the best answer is : 249\n",
      "in itration  10 the best answer is : 248\n",
      "in itration  11 the best answer is : 247\n",
      "in itration  12 the best answer is : 246\n",
      "in itration  13 the best answer is : 245\n",
      "in itration  14 the best answer is : 244\n",
      "in itration  15 the best answer is : 243\n",
      "in itration  16 the best answer is : 242\n",
      "in itration  17 the best answer is : 241\n",
      "in itration  18 the best answer is : 240\n",
      "in itration  19 the best answer is : 239\n",
      "in itration  20 the best answer is : 238\n",
      "in itration  21 the best answer is : 237\n",
      "in itration  22 the best answer is : 236\n",
      "in itration  23 the best answer is : 236\n",
      "in itration  24 the best answer is : 235\n",
      "in itration  25 the best answer is : 234\n",
      "in itration  26 the best answer is : 233\n",
      "in itration  27 the best answer is : 232\n",
      "in itration  28 the best answer is : 232\n",
      "in itration  29 the best answer is : 231\n",
      "in itration  30 the best answer is : 231\n",
      "in itration  34 the best answer is : 230\n",
      "in itration  35 the best answer is : 230\n",
      "in itration  38 the best answer is : 229\n",
      "in itration  39 the best answer is : 229\n",
      "in itration  45 the best answer is : 228\n",
      "in itration  46 the best answer is : 228\n",
      "in itration  51 the best answer is : 227\n",
      "in itration  52 the best answer is : 227\n",
      "in itration  72 the best answer is : 226\n",
      "in itration  73 the best answer is : 226\n",
      "in itration  89 the best answer is : 225\n",
      "in itration  90 the best answer is : 225\n",
      "in itration  120 the best answer is : 224\n",
      "in itration  121 the best answer is : 224\n",
      "in itration  231 the best answer is : 223\n",
      "in itration  232 the best answer is : 223\n",
      "in itration  247 the best answer is : 222\n",
      "in itration  248 the best answer is : 222\n",
      "in itration  285 the best answer is : 221\n",
      "in itration  286 the best answer is : 221\n",
      "in itration  368 the best answer is : 220\n",
      "in itration  369 the best answer is : 220\n",
      "in itration  609 the best answer is : 219\n",
      "in itration  610 the best answer is : 219\n",
      "in itration  647 the best answer is : 218\n",
      "in itration  648 the best answer is : 218\n"
     ]
    }
   ],
   "source": [
    "input4 = SA(expectedAns=0,TL=1000)\n",
    "input4.inputFile('input4.stock' )\n",
    "input4.SARunner()"
   ]
  },
  {
   "attachments": {},
   "cell_type": "markdown",
   "metadata": {},
   "source": [
    "# the best answer"
   ]
  },
  {
   "cell_type": "code",
   "execution_count": 106,
   "metadata": {},
   "outputs": [
    {
     "name": "stdout",
     "output_type": "stream",
     "text": [
      "the best answer after 1000 iterations is  : 218\n",
      "the best answer is : \n",
      "1 :  [17, 80]\n",
      "2 :  [14, 4, 68]\n",
      "3 :  [60, 3, 26, 1]\n",
      "4 :  [34, 26, 29]\n",
      "5 :  [22, 72, 5]\n",
      "6 :  [4, 95]\n",
      "7 :  [12, 67, 8, 13]\n",
      "8 :  [22, 32, 46]\n",
      "9 :  [61, 29, 10]\n",
      "10 :  [36, 18, 9, 5, 5, 21, 2, 4]\n",
      "11 :  [6, 9, 30, 39, 13, 3]\n",
      "12 :  [5, 7, 8, 28, 4, 10, 37]\n",
      "13 :  [31, 9, 27, 2, 19, 5]\n",
      "14 :  [79, 5, 15]\n",
      "15 :  [11, 10, 5, 15, 54]\n",
      "16 :  [66, 29]\n",
      "17 :  [13, 81]\n",
      "18 :  [14, 51, 25, 5]\n",
      "19 :  [39, 24, 36]\n",
      "20 :  [4, 58, 15, 3]\n",
      "21 :  [44, 56]\n",
      "22 :  [18, 28, 20, 7, 26]\n",
      "23 :  [14, 48, 38]\n",
      "24 :  [27, 28, 32]\n",
      "25 :  [71]\n",
      "26 :  [63, 2, 5, 10, 9, 6]\n",
      "27 :  [7, 59, 2, 17, 2, 5]\n",
      "28 :  [18, 5, 5, 3, 68]\n",
      "29 :  [43, 23, 25]\n",
      "30 :  [92]\n",
      "31 :  [38, 1, 61]\n",
      "32 :  [67, 14, 4, 2]\n",
      "33 :  [98]\n",
      "34 :  [35, 20, 33, 9]\n",
      "35 :  [10, 4, 35, 50]\n",
      "36 :  [15, 30, 34, 5, 16]\n",
      "37 :  [7, 6, 16, 10, 6, 15, 8, 21, 9]\n",
      "38 :  [15, 4, 12, 21, 12, 5, 24]\n",
      "39 :  [63, 36]\n",
      "40 :  [14, 5, 11, 11, 56]\n",
      "41 :  [31, 62, 3]\n",
      "42 :  [24, 20, 14, 25]\n",
      "43 :  [44, 7, 23, 23, 3]\n",
      "44 :  [3, 8, 8, 15, 65]\n",
      "45 :  [56, 39, 3]\n",
      "46 :  [5, 73, 11, 6, 2]\n",
      "47 :  [32, 36, 2, 1, 6, 17, 1]\n",
      "48 :  [51, 43]\n",
      "49 :  [14, 4, 51, 6, 17]\n",
      "50 :  [47, 21, 16, 4, 10]\n",
      "51 :  [5, 33, 2, 5, 21, 1, 27]\n",
      "52 :  [67, 7, 20, 5]\n",
      "53 :  [91, 1]\n",
      "54 :  [12, 23, 1, 5, 13, 37, 3, 5, 1]\n",
      "55 :  [16, 84]\n",
      "56 :  [5, 74, 4, 3]\n",
      "57 :  [15, 4, 1, 16, 1, 4, 5, 13, 12, 15]\n",
      "58 :  [34, 4, 12, 18, 28]\n",
      "59 :  [47, 15, 5, 2, 3, 4, 3, 1, 2, 15]\n",
      "60 :  [26, 19, 37, 8, 3]\n",
      "61 :  [47, 30, 21, 1]\n",
      "62 :  [16, 27, 9, 19, 7, 22]\n",
      "63 :  [36, 2, 58]\n",
      "64 :  [14, 7, 3, 18, 51]\n",
      "65 :  [8, 66, 22]\n",
      "66 :  [54, 14, 27, 1, 4]\n",
      "67 :  [8, 43, 43]\n",
      "68 :  [73, 6, 9]\n",
      "69 :  [67, 21, 10]\n",
      "70 :  [62, 35]\n",
      "71 :  [8, 14, 7, 12, 6, 46]\n",
      "72 :  [54, 10, 4, 8, 19]\n",
      "73 :  [40, 11, 41, 4, 2]\n",
      "74 :  [32, 68]\n",
      "75 :  [8, 1, 6, 3, 1, 8, 15, 8, 12, 7, 2, 3, 19, 5]\n",
      "76 :  [61, 2, 34]\n",
      "77 :  [8, 80, 7]\n",
      "78 :  [14, 52, 25, 4]\n",
      "79 :  [34, 34]\n",
      "80 :  [59, 23, 1]\n",
      "81 :  [33, 16, 2, 28, 7, 14]\n",
      "82 :  [2, 21, 16, 22, 7, 22]\n",
      "83 :  [51, 6, 37]\n",
      "84 :  [16, 8, 52, 19]\n",
      "85 :  [93]\n",
      "86 :  [37, 9, 46]\n",
      "87 :  [32, 20, 38]\n",
      "88 :  [40, 26, 5, 20]\n",
      "89 :  [44, 48, 6, 2]\n",
      "90 :  [1, 57, 2, 6, 31]\n",
      "91 :  [14, 47, 22, 8]\n",
      "92 :  [52, 7, 22, 18]\n",
      "93 :  [6, 47, 18, 24]\n",
      "94 :  [51, 6, 6, 7, 30]\n",
      "95 :  [13, 31, 4, 14, 4, 24, 7]\n",
      "96 :  [33, 50, 2]\n",
      "97 :  [20, 56, 24]\n",
      "98 :  [30, 52, 9, 2]\n",
      "99 :  [44, 3, 4, 46]\n",
      "100 :  [6, 62, 1, 9, 21]\n",
      "101 :  [7, 3, 6, 18, 5, 9, 4, 17, 10, 7]\n",
      "102 :  [23, 14, 11, 22, 3, 20]\n",
      "103 :  [9, 8, 4, 51, 23, 1]\n",
      "104 :  [47, 1, 3, 21, 3, 11, 6]\n",
      "105 :  [9, 80]\n",
      "106 :  [59, 15, 18]\n",
      "107 :  [13, 47, 18, 2, 20]\n",
      "108 :  [35, 12, 6, 11, 10, 2, 20, 1]\n",
      "109 :  [30, 12, 6, 11, 34]\n",
      "110 :  [71, 19, 6]\n",
      "111 :  [21, 38, 5, 12, 22]\n",
      "112 :  [5, 88]\n",
      "113 :  [33, 38, 26, 3]\n",
      "114 :  [66, 4, 10, 17]\n",
      "115 :  [74, 15]\n",
      "116 :  [27, 5, 52, 4, 11]\n",
      "117 :  [47, 15, 1, 26]\n",
      "118 :  [27, 2, 1, 6, 12, 10, 5, 20]\n",
      "119 :  [46, 6, 44]\n",
      "120 :  [56, 16, 3, 9]\n",
      "121 :  [18, 13, 67]\n",
      "122 :  [18, 75]\n",
      "123 :  [33, 47]\n",
      "124 :  [32, 55]\n",
      "125 :  [74, 4, 21]\n",
      "126 :  [2, 70, 3, 22]\n",
      "127 :  [7, 16, 8, 69]\n",
      "128 :  [20, 13, 24, 32, 9]\n",
      "129 :  [50, 8, 39]\n",
      "130 :  [6, 89]\n",
      "131 :  [17, 31, 46, 2]\n",
      "132 :  [80, 18]\n",
      "133 :  [11, 89]\n",
      "134 :  [3, 2, 6, 73, 16]\n",
      "135 :  [92]\n",
      "136 :  [20, 29, 37, 1]\n",
      "137 :  [53, 10, 3]\n",
      "138 :  [44, 10, 20, 7, 15]\n",
      "139 :  [16, 22, 3, 37, 9, 7]\n",
      "140 :  [12, 16, 19, 8, 36, 3]\n",
      "141 :  [44, 24, 6]\n",
      "142 :  [82, 18]\n",
      "143 :  [10, 17, 20, 51]\n",
      "144 :  [81, 4]\n",
      "145 :  [34, 65]\n",
      "146 :  [6, 59, 2, 11, 8]\n",
      "147 :  [38, 50]\n",
      "148 :  [43, 25, 21]\n",
      "149 :  [79, 3, 11]\n",
      "150 :  [33, 65]\n",
      "151 :  [23, 10, 22, 12, 28, 1]\n",
      "152 :  [20, 2, 2, 58, 15]\n",
      "153 :  [78, 8, 7]\n",
      "154 :  [73, 20]\n",
      "155 :  [9, 56, 12, 5]\n",
      "156 :  [24, 5, 4, 2, 58]\n",
      "157 :  [12, 37, 18, 27]\n",
      "158 :  [34, 22, 42]\n",
      "159 :  [4, 93, 2]\n",
      "160 :  [69, 13, 18]\n",
      "161 :  [24, 76]\n",
      "162 :  [18, 2, 32, 47]\n",
      "163 :  [5, 2, 91]\n",
      "164 :  [60, 10, 7, 14, 6]\n",
      "165 :  [66, 5, 16]\n",
      "166 :  [43, 35, 21, 1]\n",
      "167 :  [18, 5, 1, 48, 19, 3, 1, 4]\n",
      "168 :  [10, 10, 5, 38, 16]\n",
      "169 :  [50, 4, 10, 36]\n",
      "170 :  [2, 90, 6]\n",
      "171 :  [16, 1, 25, 25, 30]\n",
      "172 :  [5, 22, 23, 20, 25, 5]\n",
      "173 :  [5, 15, 4, 25, 44, 2]\n",
      "174 :  [65, 4, 2, 10, 7, 7]\n",
      "175 :  [18, 68]\n",
      "176 :  [31, 11, 12, 4, 6, 32]\n",
      "177 :  [74, 13, 12]\n",
      "178 :  [5, 13, 6, 2, 38, 34]\n",
      "179 :  [87]\n",
      "180 :  [35, 26, 3, 4, 21, 7, 3]\n",
      "181 :  [47, 7, 8, 14, 17]\n",
      "182 :  [29, 31, 36]\n",
      "183 :  [18, 38, 9, 27]\n",
      "184 :  [27, 6, 1, 55]\n",
      "185 :  [45, 4, 6, 6, 35, 3]\n",
      "186 :  [98]\n",
      "187 :  [33, 54, 13]\n",
      "188 :  [19, 14, 9, 33, 9]\n",
      "189 :  [26, 47, 2, 6]\n",
      "190 :  [56, 7, 27]\n",
      "191 :  [24, 72]\n",
      "192 :  [13, 7, 20, 5, 1, 5, 4, 1, 32]\n",
      "193 :  [45, 34, 13]\n",
      "194 :  [43, 18, 6, 18, 9, 6]\n",
      "195 :  [3, 7, 16, 9, 8, 57]\n",
      "196 :  [40, 21, 3]\n",
      "197 :  [72, 13]\n",
      "198 :  [48, 5, 46]\n",
      "199 :  [2, 4, 59, 29, 5]\n",
      "200 :  [28, 6, 5, 23, 9, 13, 3, 13]\n",
      "201 :  [71, 26]\n",
      "202 :  [89, 8]\n",
      "203 :  [14, 2, 2, 26, 20, 4, 16, 3]\n",
      "204 :  [87, 6, 7]\n",
      "205 :  [54, 31, 13]\n",
      "206 :  [6, 6, 21, 12, 54]\n",
      "207 :  [24, 39, 24]\n",
      "208 :  [99]\n",
      "209 :  [13, 46, 31, 9]\n",
      "210 :  [24, 19, 4, 33, 13]\n",
      "211 :  [11, 61, 17]\n",
      "212 :  [26, 8, 3, 33, 15, 12, 2]\n",
      "213 :  [2, 45, 10, 17, 3]\n",
      "214 :  [74, 14]\n",
      "215 :  [20, 78, 1]\n",
      "216 :  [3, 5, 16, 30, 37, 7]\n",
      "217 :  [4, 20, 1, 30, 45]\n",
      "218 :  [4, 41, 9, 3, 15]\n"
     ]
    }
   ],
   "source": [
    "input4.printBest()"
   ]
  },
  {
   "cell_type": "code",
   "execution_count": 107,
   "metadata": {},
   "outputs": [
    {
     "data": {
      "image/png": "[encoded data removed]",
      "text/plain": [
       "<Figure size 640x480 with 1 Axes>"
      ]
     },
     "metadata": {},
     "output_type": "display_data"
    }
   ],
   "source": [
    "input4.printPlot()"
   ]
  },
  {
   "attachments": {},
   "cell_type": "markdown",
   "metadata": {},
   "source": [
    "## ----------------------------------End----------------------------------------"
   ]
  },
  {
   "attachments": {},
   "cell_type": "markdown",
   "metadata": {},
   "source": []
  }
 ],
 "metadata": {
  "kernelspec": {
   "display_name": "Python 3",
   "language": "python",
   "name": "python3"
  },
  "language_info": {
   "codemirror_mode": {
    "name": "ipython",
    "version": 3
   },
   "file_extension": ".py",
   "mimetype": "text/x-python",
   "name": "python",
   "nbconvert_exporter": "python",
   "pygments_lexer": "ipython3",
   "version": "3.11.6"
  },
  "orig_nbformat": 4
 },
 "nbformat": 4,
 "nbformat_minor": 2
}
